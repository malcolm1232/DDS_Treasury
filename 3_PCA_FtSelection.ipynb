{
 "cells": [
  {
   "cell_type": "markdown",
   "metadata": {},
   "source": [
    "# Test PCA on DF"
   ]
  },
  {
   "cell_type": "code",
   "execution_count": 5,
   "metadata": {},
   "outputs": [],
   "source": [
    "from sklearn.preprocessing import StandardScaler\n",
    "from sklearn.model_selection import train_test_split\n",
    "import pandas as pd\n",
    "import numpy as np\n",
    "df = pd.read_csv('C:/Users/malco/aaPythonPersonalNotebook/DBS Data Scientist Treasury and Market Operations/dataset/adult_data_RenameCol_MinMax_LE.csv',index_col = 0)\n",
    "df\n",
    "X = df.drop('class', axis=1)\n",
    "y = df['class']\n",
    "X_train, X_test, y_train, y_test = train_test_split(X, y, test_size=0.25, random_state=42)\n",
    "\n",
    "ss = StandardScaler()\n",
    "X_train_scaled = ss.fit_transform(X_train)\n",
    "X_test_scaled = ss.transform(X_test)"
   ]
  },
  {
   "cell_type": "code",
   "execution_count": 3,
   "metadata": {},
   "outputs": [
    {
     "data": {
      "image/png": "[encoded data removed]",
      "text/plain": [
       "<Figure size 432x288 with 1 Axes>"
      ]
     },
     "metadata": {
      "needs_background": "light"
     },
     "output_type": "display_data"
    }
   ],
   "source": [
    "from sklearn.decomposition import PCA\n",
    "import matplotlib.pyplot as plt\n",
    "pca = PCA().fit(X_train_scaled)\n",
    "\n",
    "plt.plot(pca.explained_variance_ratio_.cumsum(), lw=3, color='#087E8B')\n",
    "plt.title('Cumulative explained variance by number of principal components', size=20)\n",
    "plt.show()"
   ]
  },
  {
   "cell_type": "code",
   "execution_count": 6,
   "metadata": {},
   "outputs": [
    {
     "data": {
      "text/html": [
       "<div>\n",
       "<style scoped>\n",
       "    .dataframe tbody tr th:only-of-type {\n",
       "        vertical-align: middle;\n",
       "    }\n",
       "\n",
       "    .dataframe tbody tr th {\n",
       "        vertical-align: top;\n",
       "    }\n",
       "\n",
       "    .dataframe thead th {\n",
       "        text-align: right;\n",
       "    }\n",
       "</style>\n",
       "<table border=\"1\" class=\"dataframe\">\n",
       "  <thead>\n",
       "    <tr style=\"text-align: right;\">\n",
       "      <th></th>\n",
       "      <th>PC1</th>\n",
       "      <th>PC2</th>\n",
       "      <th>PC3</th>\n",
       "      <th>PC4</th>\n",
       "      <th>PC5</th>\n",
       "      <th>PC6</th>\n",
       "      <th>PC7</th>\n",
       "      <th>PC8</th>\n",
       "      <th>PC9</th>\n",
       "      <th>PC10</th>\n",
       "      <th>PC11</th>\n",
       "      <th>PC12</th>\n",
       "      <th>PC13</th>\n",
       "      <th>PC14</th>\n",
       "    </tr>\n",
       "  </thead>\n",
       "  <tbody>\n",
       "    <tr>\n",
       "      <th>age</th>\n",
       "      <td>0.415723</td>\n",
       "      <td>0.133858</td>\n",
       "      <td>0.443291</td>\n",
       "      <td>0.187630</td>\n",
       "      <td>-0.432993</td>\n",
       "      <td>-0.020834</td>\n",
       "      <td>0.151640</td>\n",
       "      <td>-0.037117</td>\n",
       "      <td>0.334982</td>\n",
       "      <td>-0.166376</td>\n",
       "      <td>0.094932</td>\n",
       "      <td>0.436613</td>\n",
       "      <td>0.073166</td>\n",
       "      <td>0.142847</td>\n",
       "    </tr>\n",
       "    <tr>\n",
       "      <th>fnlwgt</th>\n",
       "      <td>-0.056744</td>\n",
       "      <td>0.159455</td>\n",
       "      <td>-0.194104</td>\n",
       "      <td>0.195512</td>\n",
       "      <td>0.525424</td>\n",
       "      <td>0.168615</td>\n",
       "      <td>0.671753</td>\n",
       "      <td>-0.308545</td>\n",
       "      <td>0.052208</td>\n",
       "      <td>-0.164998</td>\n",
       "      <td>0.039167</td>\n",
       "      <td>0.113425</td>\n",
       "      <td>-0.013623</td>\n",
       "      <td>-0.002433</td>\n",
       "    </tr>\n",
       "    <tr>\n",
       "      <th>education-num</th>\n",
       "      <td>0.330626</td>\n",
       "      <td>-0.716646</td>\n",
       "      <td>0.031649</td>\n",
       "      <td>0.142682</td>\n",
       "      <td>0.153687</td>\n",
       "      <td>-0.028510</td>\n",
       "      <td>-0.017422</td>\n",
       "      <td>0.035353</td>\n",
       "      <td>0.130185</td>\n",
       "      <td>-0.009672</td>\n",
       "      <td>-0.200388</td>\n",
       "      <td>0.075496</td>\n",
       "      <td>-0.513104</td>\n",
       "      <td>0.060234</td>\n",
       "    </tr>\n",
       "    <tr>\n",
       "      <th>capital-gain</th>\n",
       "      <td>0.212462</td>\n",
       "      <td>-0.169410</td>\n",
       "      <td>0.030000</td>\n",
       "      <td>0.248665</td>\n",
       "      <td>-0.104751</td>\n",
       "      <td>0.613927</td>\n",
       "      <td>0.244545</td>\n",
       "      <td>0.607352</td>\n",
       "      <td>-0.114897</td>\n",
       "      <td>0.032665</td>\n",
       "      <td>0.078402</td>\n",
       "      <td>-0.131852</td>\n",
       "      <td>0.093229</td>\n",
       "      <td>-0.020440</td>\n",
       "    </tr>\n",
       "    <tr>\n",
       "      <th>capital-loss</th>\n",
       "      <td>0.151385</td>\n",
       "      <td>-0.065817</td>\n",
       "      <td>0.071281</td>\n",
       "      <td>0.053050</td>\n",
       "      <td>0.093832</td>\n",
       "      <td>-0.772686</td>\n",
       "      <td>0.364571</td>\n",
       "      <td>0.442923</td>\n",
       "      <td>-0.102273</td>\n",
       "      <td>-0.012289</td>\n",
       "      <td>0.082710</td>\n",
       "      <td>-0.085771</td>\n",
       "      <td>0.071552</td>\n",
       "      <td>-0.005148</td>\n",
       "    </tr>\n",
       "  </tbody>\n",
       "</table>\n",
       "</div>"
      ],
      "text/plain": [
       "                    PC1       PC2       PC3       PC4       PC5       PC6  \\\n",
       "age            0.415723  0.133858  0.443291  0.187630 -0.432993 -0.020834   \n",
       "fnlwgt        -0.056744  0.159455 -0.194104  0.195512  0.525424  0.168615   \n",
       "education-num  0.330626 -0.716646  0.031649  0.142682  0.153687 -0.028510   \n",
       "capital-gain   0.212462 -0.169410  0.030000  0.248665 -0.104751  0.613927   \n",
       "capital-loss   0.151385 -0.065817  0.071281  0.053050  0.093832 -0.772686   \n",
       "\n",
       "                    PC7       PC8       PC9      PC10      PC11      PC12  \\\n",
       "age            0.151640 -0.037117  0.334982 -0.166376  0.094932  0.436613   \n",
       "fnlwgt         0.671753 -0.308545  0.052208 -0.164998  0.039167  0.113425   \n",
       "education-num -0.017422  0.035353  0.130185 -0.009672 -0.200388  0.075496   \n",
       "capital-gain   0.244545  0.607352 -0.114897  0.032665  0.078402 -0.131852   \n",
       "capital-loss   0.364571  0.442923 -0.102273 -0.012289  0.082710 -0.085771   \n",
       "\n",
       "                   PC13      PC14  \n",
       "age            0.073166  0.142847  \n",
       "fnlwgt        -0.013623 -0.002433  \n",
       "education-num -0.513104  0.060234  \n",
       "capital-gain   0.093229 -0.020440  \n",
       "capital-loss   0.071552 -0.005148  "
      ]
     },
     "execution_count": 6,
     "metadata": {},
     "output_type": "execute_result"
    }
   ],
   "source": [
    "loadings = pd.DataFrame(\n",
    "    data=pca.components_.T * np.sqrt(pca.explained_variance_), \n",
    "    columns=[f'PC{i}' for i in range(1, len(X_train.columns) + 1)],\n",
    "    index=X_train.columns\n",
    ")\n",
    "loadings.head()"
   ]
  },
  {
   "cell_type": "code",
   "execution_count": 9,
   "metadata": {},
   "outputs": [
    {
     "data": {
      "image/png": "[encoded data removed]",
      "text/plain": [
       "<Figure size 432x288 with 1 Axes>"
      ]
     },
     "metadata": {
      "needs_background": "light"
     },
     "output_type": "display_data"
    }
   ],
   "source": [
    "pc1_loadings = loadings.sort_values(by='PC1', ascending=False)[['PC1']]\n",
    "pc1_loadings = pc1_loadings.reset_index()\n",
    "pc1_loadings.columns = ['Attribute', 'CorrelationWithPC1']\n",
    "\n",
    "plt.bar(x=pc1_loadings['Attribute'], height=pc1_loadings['CorrelationWithPC1'], color='#087E8B')\n",
    "plt.title('PCA loading scores (first principal component)', size=20)\n",
    "plt.xticks(rotation='vertical')\n",
    "plt.show()"
   ]
  },
  {
   "cell_type": "code",
   "execution_count": null,
   "metadata": {},
   "outputs": [],
   "source": []
  },
  {
   "cell_type": "code",
   "execution_count": null,
   "metadata": {},
   "outputs": [],
   "source": []
  },
  {
   "cell_type": "code",
   "execution_count": null,
   "metadata": {},
   "outputs": [],
   "source": []
  },
  {
   "cell_type": "code",
   "execution_count": null,
   "metadata": {},
   "outputs": [],
   "source": []
  },
  {
   "cell_type": "code",
   "execution_count": null,
   "metadata": {},
   "outputs": [],
   "source": []
  }
 ],
 "metadata": {
  "kernelspec": {
   "display_name": "Python 3",
   "language": "python",
   "name": "python3"
  },
  "language_info": {
   "codemirror_mode": {
    "name": "ipython",
    "version": 3
   },
   "file_extension": ".py",
   "mimetype": "text/x-python",
   "name": "python",
   "nbconvert_exporter": "python",
   "pygments_lexer": "ipython3",
   "version": "3.6.8"
  }
 },
 "nbformat": 4,
 "nbformat_minor": 4
}
